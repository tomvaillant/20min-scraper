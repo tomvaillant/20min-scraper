{
 "cells": [
  {
   "cell_type": "code",
   "execution_count": 1,
   "id": "e97b72c1-17af-4f69-9cc5-086736eb9871",
   "metadata": {},
   "outputs": [
    {
     "name": "stdout",
     "output_type": "stream",
     "text": [
      "Exported 5 headlines to headlines_de.csv\n",
      "Exported 5 headlines to headlines_fr.csv\n",
      "Scraping and export complete.\n"
     ]
    }
   ],
   "source": [
    "import requests\n",
    "from bs4 import BeautifulSoup\n",
    "import pandas as pd\n",
    "\n",
    "def scrape_headlines(url, base_url):\n",
    "    response = requests.get(url)\n",
    "    doc = BeautifulSoup(response.text, 'html.parser')\n",
    "    links = doc.select(\"article\")\n",
    "    \n",
    "    all_data = []\n",
    "    for link in links[:5]:\n",
    "        headline = link.select_one('span.kilkaya-teaser-title')\n",
    "        if headline:\n",
    "            data = {\n",
    "                'headline': headline.text.strip(),\n",
    "                'url': base_url + link.select_one(\"a\")['href']\n",
    "            }\n",
    "            all_data.append(data)\n",
    "    return all_data\n",
    "\n",
    "# URLs and base URLs for German and French versions\n",
    "urls = {\n",
    "    'de': {\n",
    "        'url': \"https://www.20min.ch/ausland/us-wahlen-2024\",\n",
    "        'base_url': \"https://www.20min.ch\"\n",
    "    },\n",
    "    'fr': {\n",
    "        'url': \"https://www.20min.ch/fr/monde/election-presidentielle-americaine-2024\",\n",
    "        'base_url': \"https://www.20min.ch\"\n",
    "    }\n",
    "}\n",
    "\n",
    "# Scrape headlines for both languages\n",
    "for lang, url_info in urls.items():\n",
    "    data = scrape_headlines(url_info['url'], url_info['base_url'])\n",
    "    df = pd.DataFrame(data)\n",
    "    df.to_csv(f\"headlines_{lang}.csv\", index=False)\n",
    "    print(f\"Exported {len(data)} headlines to headlines_{lang}.csv\")\n",
    "\n",
    "print(\"Scraping and export complete.\")\n"
   ]
  }
 ],
 "metadata": {
  "kernelspec": {
   "display_name": "Python 3 (ipykernel)",
   "language": "python",
   "name": "python3"
  },
  "language_info": {
   "codemirror_mode": {
    "name": "ipython",
    "version": 3
   },
   "file_extension": ".py",
   "mimetype": "text/x-python",
   "name": "python",
   "nbconvert_exporter": "python",
   "pygments_lexer": "ipython3",
   "version": "3.11.8"
  }
 },
 "nbformat": 4,
 "nbformat_minor": 5
}
