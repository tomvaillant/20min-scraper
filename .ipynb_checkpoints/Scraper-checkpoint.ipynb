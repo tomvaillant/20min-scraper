{
 "cells": [
  {
   "cell_type": "code",
   "execution_count": 1,
   "id": "676126b5-744a-4645-a146-d68eb278b4a2",
   "metadata": {},
   "outputs": [],
   "source": [
    "import requests\n",
    "from bs4 import BeautifulSoup"
   ]
  },
  {
   "cell_type": "code",
   "execution_count": 2,
   "id": "2e63bf02-31ea-4115-90f8-c4e7dbb1b57e",
   "metadata": {},
   "outputs": [],
   "source": [
    "response = requests.get(\"https://www.20min.ch/ausland/us-wahlen-2024\")\n",
    "doc = BeautifulSoup(response.text)"
   ]
  },
  {
   "cell_type": "code",
   "execution_count": 3,
   "id": "d4e6fa68-d75d-4379-b717-41ed8a6c4ead",
   "metadata": {},
   "outputs": [
    {
     "data": {
      "text/plain": [
       "40"
      ]
     },
     "execution_count": 3,
     "metadata": {},
     "output_type": "execute_result"
    }
   ],
   "source": [
    "links = doc.select(\"article\")\n",
    "len(links)"
   ]
  },
  {
   "cell_type": "code",
   "execution_count": 5,
   "id": "73ccd9c9-b4e1-4bcd-9f69-a36501b501fc",
   "metadata": {},
   "outputs": [
    {
     "data": {
      "text/plain": [
       "[{'headline': 'Du verstehst bei «Swing States» und «Electoral College» nur Bahnhof?',\n",
       "  'url': 'https://www.20min.ch/ausland/us-wahlen-2024/story/wahlsystem-usa-so-funktionieren-die-us-wahlen-einfach-erklaert-103203347'},\n",
       " {'headline': 'Umfrage zeigt: 4 von 5 FDP-Anhängern würden Kamala Harris wählen',\n",
       "  'url': 'https://www.20min.ch/ausland/us-wahlen-2024/story/us-wahlen-umfrage-zeigt-4-von-5-fdp-anhaengern-wuerden-kamala-harris-waehlen-103203739'},\n",
       " {'headline': 'US-Wahlen: Was braucht es, um US-Präsident zu werden?',\n",
       "  'url': 'https://www.20min.ch/ausland/us-wahlen-2024/story/us-wahlen-2024-us-wahlen-was-braucht-es-um-us-praesident-zu-werden-103203631'},\n",
       " {'headline': 'Ungewöhnliche Töne: Trump macht Harris Komplimente',\n",
       "  'url': 'https://www.20min.ch/ausland/us-wahlen-2024/story/us-wahlkampf-ungewoehnliche-toene-trump-macht-harris-komplimente-103150739'},\n",
       " {'headline': '«Darf ich zu Ende antworten?» – Harris ermahnt Moderator mehrfach',\n",
       "  'url': 'https://www.20min.ch/ausland/us-wahlen-2024/story/harris-laesst-sich-im-fernesehinterview-nichts-gefallen-und-will-einiges-klarstellen-103203592'}]"
      ]
     },
     "execution_count": 5,
     "metadata": {},
     "output_type": "execute_result"
    }
   ],
   "source": [
    "all_data = []\n",
    "for link in links[:5]:\n",
    "    # print(\"----\")\n",
    "    data = {\n",
    "        'headline': link.select_one('span.kilkaya-teaser-title').text,\n",
    "        'url': \"https://www.20min.ch/ausland/us-wahlen-2024\" + link.select(\"a\")[0]['href']\n",
    "    }\n",
    "    # print(data)\n",
    "    all_data.append(data)\n",
    "all_data"
   ]
  },
  {
   "cell_type": "code",
   "execution_count": 6,
   "id": "e97b72c1-17af-4f69-9cc5-086736eb9871",
   "metadata": {},
   "outputs": [
    {
     "data": {
      "text/html": [
       "<div>\n",
       "<style scoped>\n",
       "    .dataframe tbody tr th:only-of-type {\n",
       "        vertical-align: middle;\n",
       "    }\n",
       "\n",
       "    .dataframe tbody tr th {\n",
       "        vertical-align: top;\n",
       "    }\n",
       "\n",
       "    .dataframe thead th {\n",
       "        text-align: right;\n",
       "    }\n",
       "</style>\n",
       "<table border=\"1\" class=\"dataframe\">\n",
       "  <thead>\n",
       "    <tr style=\"text-align: right;\">\n",
       "      <th></th>\n",
       "      <th>headline</th>\n",
       "      <th>url</th>\n",
       "    </tr>\n",
       "  </thead>\n",
       "  <tbody>\n",
       "    <tr>\n",
       "      <th>0</th>\n",
       "      <td>Du verstehst bei «Swing States» und «Electoral...</td>\n",
       "      <td>https://www.20min.ch/ausland/us-wahlen-2024/st...</td>\n",
       "    </tr>\n",
       "    <tr>\n",
       "      <th>1</th>\n",
       "      <td>Umfrage zeigt: 4 von 5 FDP-Anhängern würden Ka...</td>\n",
       "      <td>https://www.20min.ch/ausland/us-wahlen-2024/st...</td>\n",
       "    </tr>\n",
       "    <tr>\n",
       "      <th>2</th>\n",
       "      <td>US-Wahlen: Was braucht es, um US-Präsident zu ...</td>\n",
       "      <td>https://www.20min.ch/ausland/us-wahlen-2024/st...</td>\n",
       "    </tr>\n",
       "    <tr>\n",
       "      <th>3</th>\n",
       "      <td>Ungewöhnliche Töne: Trump macht Harris Komplim...</td>\n",
       "      <td>https://www.20min.ch/ausland/us-wahlen-2024/st...</td>\n",
       "    </tr>\n",
       "    <tr>\n",
       "      <th>4</th>\n",
       "      <td>«Darf ich zu Ende antworten?» – Harris ermahnt...</td>\n",
       "      <td>https://www.20min.ch/ausland/us-wahlen-2024/st...</td>\n",
       "    </tr>\n",
       "  </tbody>\n",
       "</table>\n",
       "</div>"
      ],
      "text/plain": [
       "                                            headline  \\\n",
       "0  Du verstehst bei «Swing States» und «Electoral...   \n",
       "1  Umfrage zeigt: 4 von 5 FDP-Anhängern würden Ka...   \n",
       "2  US-Wahlen: Was braucht es, um US-Präsident zu ...   \n",
       "3  Ungewöhnliche Töne: Trump macht Harris Komplim...   \n",
       "4  «Darf ich zu Ende antworten?» – Harris ermahnt...   \n",
       "\n",
       "                                                 url  \n",
       "0  https://www.20min.ch/ausland/us-wahlen-2024/st...  \n",
       "1  https://www.20min.ch/ausland/us-wahlen-2024/st...  \n",
       "2  https://www.20min.ch/ausland/us-wahlen-2024/st...  \n",
       "3  https://www.20min.ch/ausland/us-wahlen-2024/st...  \n",
       "4  https://www.20min.ch/ausland/us-wahlen-2024/st...  "
      ]
     },
     "execution_count": 6,
     "metadata": {},
     "output_type": "execute_result"
    }
   ],
   "source": [
    "import pandas as pd\n",
    "\n",
    "# Just feed the list of dictionaries to pandas\n",
    "# and it makes us a nice beautiful dataframe\n",
    "df = pd.DataFrame(all_data)\n",
    "df.head()"
   ]
  },
  {
   "cell_type": "code",
   "execution_count": 7,
   "id": "c4e42f04-ee16-441e-807b-0ba805697597",
   "metadata": {},
   "outputs": [],
   "source": [
    "df.to_csv(\"headlines.csv\", index=False)"
   ]
  },
  {
   "cell_type": "code",
   "execution_count": null,
   "id": "f3bf905e-b084-4406-bf4f-410f82736e22",
   "metadata": {},
   "outputs": [],
   "source": []
  }
 ],
 "metadata": {
  "kernelspec": {
   "display_name": "Python 3 (ipykernel)",
   "language": "python",
   "name": "python3"
  },
  "language_info": {
   "codemirror_mode": {
    "name": "ipython",
    "version": 3
   },
   "file_extension": ".py",
   "mimetype": "text/x-python",
   "name": "python",
   "nbconvert_exporter": "python",
   "pygments_lexer": "ipython3",
   "version": "3.11.8"
  }
 },
 "nbformat": 4,
 "nbformat_minor": 5
}
